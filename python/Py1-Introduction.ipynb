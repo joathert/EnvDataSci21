{
 "cells": [
  {
   "cell_type": "markdown",
   "metadata": {},
   "source": [
    "## README before starting!\n",
    "\n",
    "Welcome to Environmental Data Science's introducing Python session. In this session we start from scratch and assume no prior knowledge of Python. We will cover a few of the very basics of the Python language. Data science modules like Pandas and matplotlib will be covered in future sessions.\n",
    "\n",
    "Fill in the blanks as you go to test your understanding, and keep this handy as a reference for basic terminology.\n",
    "\n",
    "Used Python before?\n",
    "\n",
    "It could still be worth going through the whole notebook or just particular sections; there might even be something you skipped over first time round.\n",
    "\n",
    "Things we will cover include:\n",
    " - variables and operators\n",
    " - control flow\n",
    " - functions\n",
    " \n",
    "### Running notebooks \n",
    "Assuming you have Ananonda installed, you can start a Jupyter Notebook in 3 different ways:\n",
    "1. via the Anaconda-Navigator app\n",
    "2. via the Anaconda prompt \n",
    "3. via the system prompt (e.g. linux terminal, windows shell). \n",
    "\n",
    "Which ever way you run Jupyter, the notebook will be displayed in your web browser. You can read more about the options to run notebooks here:\n",
    "\n",
    "https://problemsolvingwithpython.com/02-Jupyter-Notebooks/02.04-Opening-a-Jupyter-Notebook/\n",
    "\n",
    "If you are on linux, you may wish to run Jupyter directly from the terminal using command __jupyter-notebook__. \n",
    "\n",
    "### Note:\n",
    "This work, \"Py1-Introduction\", borrows heavily from \"Python-Lectures\" by __kajathkmp__, used under Creative Commons Attribution 3.0 Unported License. You can find the orignal course here: https://github.com/rajathkmp/Python-Lectures\n",
    "\n",
    "hint: If something is unclear below, you can check out the examples from __kajathkmp__, which have more detail. \n",
    "\n",
    "jon.atherton@helsinki.fi"
   ]
  },
  {
   "cell_type": "markdown",
   "metadata": {},
   "source": [
    "## 1. Variables and operators"
   ]
  },
  {
   "cell_type": "markdown",
   "metadata": {},
   "source": [
    "A name that is used to denote something or a value is called a variable. In python, variables can be declared and values can be assigned to it as follows,"
   ]
  },
  {
   "cell_type": "code",
   "execution_count": null,
   "metadata": {},
   "outputs": [],
   "source": [
    "x = 2\n",
    "y = 5\n",
    "xy = 'Hey'"
   ]
  },
  {
   "cell_type": "markdown",
   "metadata": {},
   "source": [
    "you can print your variables using the __print()__ statement e.g. print(x). \n",
    "\n",
    "print is an example of a built-in function. Try it out below:"
   ]
  },
  {
   "cell_type": "code",
   "execution_count": null,
   "metadata": {},
   "outputs": [],
   "source": []
  },
  {
   "cell_type": "markdown",
   "metadata": {},
   "source": [
    "we can combine the values that variables hold using arithmetic operators. These are the main operators in python:"
   ]
  },
  {
   "cell_type": "markdown",
   "metadata": {},
   "source": [
    "| Symbol | Task Performed |\n",
    "|----|---|\n",
    "| +  | Addition |\n",
    "| -  | Subtraction |\n",
    "| /  | division |\n",
    "| %  | mod |\n",
    "| *  | multiplication |\n",
    "| //  | floor division |\n",
    "| **  | to the power of |"
   ]
  },
  {
   "cell_type": "markdown",
   "metadata": {},
   "source": [
    "try to use 2 or 3 of these operations with __x__ and __y__ to create a new variable __z__:"
   ]
  },
  {
   "cell_type": "code",
   "execution_count": null,
   "metadata": {},
   "outputs": [],
   "source": []
  },
  {
   "cell_type": "markdown",
   "metadata": {},
   "source": [
    "We can use Relational Operators to compare variables using the rules of logic:"
   ]
  },
  {
   "cell_type": "markdown",
   "metadata": {},
   "source": [
    "| Symbol | Task Performed |\n",
    "|----|---|\n",
    "| == | True, if it is equal |\n",
    "| !=  | True, if not equal to |\n",
    "| < | less than |\n",
    "| > | greater than |\n",
    "| <=  | less than or equal to |\n",
    "| >=  | greater than or equal to |"
   ]
  },
  {
   "cell_type": "markdown",
   "metadata": {},
   "source": [
    "If variables hold the same value, then True is returned. Do __x__ and __y__ hold the same value?"
   ]
  },
  {
   "cell_type": "markdown",
   "metadata": {},
   "source": [
    "## 2. Common data types and data structures"
   ]
  },
  {
   "cell_type": "markdown",
   "metadata": {},
   "source": [
    "Each variables has a certain type. The main numeric types in python are int, float and complex. You can read more about them here: https://docs.python.org/3/library/stdtypes.html\n",
    "\n",
    "You can check the type of __x__ with the following statement:"
   ]
  },
  {
   "cell_type": "code",
   "execution_count": null,
   "metadata": {},
   "outputs": [],
   "source": [
    "x.__class__"
   ]
  },
  {
   "cell_type": "markdown",
   "metadata": {},
   "source": [
    "what type of object is __xy__?"
   ]
  },
  {
   "cell_type": "code",
   "execution_count": null,
   "metadata": {},
   "outputs": [],
   "source": []
  },
  {
   "cell_type": "markdown",
   "metadata": {},
   "source": [
    "That command may look a little strange if you are new to python. In Python everything is an __object__. Each object has a bunch of attributes, and the command above accesses the class attribute. (The underscores are used for a bunch of attributes that require special handling by the python interpreter. Which is the bit of code that converts your input to instructions.) \n",
    "\n",
    "You can list all the attributes of an object using the __dir()__ function, try it out below:"
   ]
  },
  {
   "cell_type": "code",
   "execution_count": null,
   "metadata": {},
   "outputs": [],
   "source": []
  },
  {
   "cell_type": "markdown",
   "metadata": {},
   "source": [
    "In python, we can combine multiple objects of the same type into __lists__. Much of python is built around manipulating lists."
   ]
  },
  {
   "cell_type": "markdown",
   "metadata": {},
   "source": [
    "Lists are declared by just equating a variable to __[ ]__ or __list()__. Here is an empty list:"
   ]
  },
  {
   "cell_type": "code",
   "execution_count": null,
   "metadata": {},
   "outputs": [],
   "source": [
    "a = []"
   ]
  },
  {
   "cell_type": "markdown",
   "metadata": {},
   "source": [
    "In python we separate list elements using a comma. Make a new list called __b__ containing __x__ and __y__. Print it out to check its contents:"
   ]
  },
  {
   "cell_type": "code",
   "execution_count": null,
   "metadata": {},
   "outputs": [],
   "source": [
    "c = [x,y]\n",
    "print(c)"
   ]
  },
  {
   "cell_type": "markdown",
   "metadata": {},
   "source": [
    "In python, Indexing starts from 0. So the list __c__, which has two elements, will have __x__ at 0 index and __y__ at 1 index. We use sqaure brackets to access list elements like this:"
   ]
  },
  {
   "cell_type": "code",
   "execution_count": null,
   "metadata": {},
   "outputs": [],
   "source": [
    "c[0]"
   ]
  },
  {
   "cell_type": "markdown",
   "metadata": {},
   "source": [
    "access the second element, and print the result:"
   ]
  },
  {
   "cell_type": "code",
   "execution_count": null,
   "metadata": {},
   "outputs": [],
   "source": []
  },
  {
   "cell_type": "markdown",
   "metadata": {},
   "source": [
    "Dictionaries are like an evolved list, more properly known as a key-value data structure. They are a great feature of python. Here is a simple example:"
   ]
  },
  {
   "cell_type": "code",
   "execution_count": null,
   "metadata": {},
   "outputs": [],
   "source": [
    "cat = {'length':32,'height':12,'fur':'soft'}"
   ]
  },
  {
   "cell_type": "markdown",
   "metadata": {},
   "source": [
    "the values before the colons are the __keys__. Then after the colon, we have the __values__. Did you notice that we can mix up value data types. Can yout think how you may access the value 'soft' below?"
   ]
  },
  {
   "cell_type": "code",
   "execution_count": null,
   "metadata": {},
   "outputs": [],
   "source": []
  },
  {
   "cell_type": "markdown",
   "metadata": {},
   "source": [
    "Another data-structure that we use often in scientific programming is the array. This is similar to a list, but is designed specifically for math operations. There is no built-in array in Python, we will need to import the numpy module. \n",
    "\n",
    "A module is just a bunch of code stored in some external file. We import numpy like this: "
   ]
  },
  {
   "cell_type": "code",
   "execution_count": null,
   "metadata": {},
   "outputs": [],
   "source": [
    "import numpy as np"
   ]
  },
  {
   "cell_type": "markdown",
   "metadata": {},
   "source": [
    "and we define an array like this:"
   ]
  },
  {
   "cell_type": "code",
   "execution_count": null,
   "metadata": {},
   "outputs": [],
   "source": [
    "d = np.array([3,4,6])"
   ]
  },
  {
   "cell_type": "markdown",
   "metadata": {},
   "source": [
    "We can easily convert between lists and numpy arrays. Try to convert __c__ to a numpy array and use dir() to check out the attributes of an array:"
   ]
  },
  {
   "cell_type": "code",
   "execution_count": null,
   "metadata": {},
   "outputs": [],
   "source": []
  },
  {
   "cell_type": "markdown",
   "metadata": {},
   "source": [
    "## 3. Control flow and functions\n",
    "\n",
    "variables, operators and data structures are the building blocks of code. We mix these with control flow and functions to make programs which do useful stuff! "
   ]
  },
  {
   "cell_type": "markdown",
   "metadata": {},
   "source": [
    "__if__ statements are the simplest example of control flow. In python we write them like this:"
   ]
  },
  {
   "cell_type": "code",
   "execution_count": null,
   "metadata": {},
   "outputs": [],
   "source": [
    "if y > 4:\n",
    "    print('High five!')"
   ]
  },
  {
   "cell_type": "markdown",
   "metadata": {},
   "source": [
    "The indentation here is a unique feature of python that you will recognise over and over. Some other languages use curly braces (brackets) for the same effect. \n",
    "\n",
    "Try to combine the above __if__ statement with an __elif__ (else if) statement to additionally print a statement if __x__ is less than 10."
   ]
  },
  {
   "cell_type": "code",
   "execution_count": null,
   "metadata": {},
   "outputs": [],
   "source": []
  },
  {
   "cell_type": "markdown",
   "metadata": {},
   "source": [
    "Loops are fundamentals of control flow, that allow us to repeat tasks over and over. Automated repipition is really the heart of programming, and is why we write code rather than manually plug values into a spreadsheet for example. \n",
    "\n",
    "There are two main loop structures in python. The __for__ loop and the __while__ loop. We can the range built in function to generate a list. Then we can use the for loop to print each element in that list:"
   ]
  },
  {
   "cell_type": "code",
   "execution_count": null,
   "metadata": {},
   "outputs": [],
   "source": [
    "a_list = range(10)\n",
    "\n",
    "for item in a_list:\n",
    "    print(item)\n"
   ]
  },
  {
   "cell_type": "markdown",
   "metadata": {},
   "source": [
    "Notice the indentation. You can use the __break__ statement to stop a list if a certain condition is reached. \n",
    "\n",
    "Try to break out of a for loop which iterates over a_list, if the value of item is greater than 5: "
   ]
  },
  {
   "cell_type": "code",
   "execution_count": null,
   "metadata": {},
   "outputs": [],
   "source": []
  },
  {
   "cell_type": "markdown",
   "metadata": {},
   "source": [
    "__Functions__ are fundamental to most programming languages. print() is an example of a built in function. However you can (and should!) define your own functions as they make code re-useable and readable. \n",
    "\n",
    "In Python, there is another fundamental unit similar to a function which is a called a __class__. We wont cover classes here, but you can read more about them in the final lecture here https://github.com/rajathkmp/Python-Lectures   "
   ]
  },
  {
   "cell_type": "markdown",
   "metadata": {},
   "source": [
    "This is the basic syntax of a function"
   ]
  },
  {
   "cell_type": "markdown",
   "metadata": {},
   "source": [
    "def funcname(arg1, arg2,... argN):\n",
    "    \n",
    "    ''' Document String'''\n",
    "\n",
    "    statements\n",
    "\n",
    "\n",
    "    return <value>"
   ]
  },
  {
   "cell_type": "markdown",
   "metadata": {},
   "source": [
    "Read the above syntax as, A function by name \"funcname\" is defined, which accepts arguments \"arg1,arg2,....argN\". The function is documented and it is '''Document String'''. The function after executing the statements returns a \"value\"."
   ]
  },
  {
   "cell_type": "code",
   "execution_count": null,
   "metadata": {},
   "outputs": [],
   "source": [
    "print (\"Hey EnvDataSci!\")"
   ]
  },
  {
   "cell_type": "markdown",
   "metadata": {},
   "source": [
    "We can encapsulate the above statements in a function like this:"
   ]
  },
  {
   "cell_type": "code",
   "execution_count": null,
   "metadata": {},
   "outputs": [],
   "source": [
    "def print_hi():\n",
    "    print (\"Hey EnvDataSci!\")"
   ]
  },
  {
   "cell_type": "markdown",
   "metadata": {},
   "source": [
    "Note that we don't need to inlude arguments or return keyword, these are optional. we would run our minimal function like this: "
   ]
  },
  {
   "cell_type": "code",
   "execution_count": null,
   "metadata": {},
   "outputs": [],
   "source": [
    "print_hi()"
   ]
  },
  {
   "cell_type": "markdown",
   "metadata": {},
   "source": [
    "Let's add an input argument, 'username', and return some output:\n"
   ]
  },
  {
   "cell_type": "code",
   "execution_count": null,
   "metadata": {},
   "outputs": [],
   "source": [
    "def print_hi2(username):\n",
    "    s = \"Hey EnvDataSci! user:\" + username\n",
    "    print (s)\n",
    "    return s"
   ]
  },
  {
   "cell_type": "markdown",
   "metadata": {},
   "source": [
    "Try it out with username 'Jon':"
   ]
  },
  {
   "cell_type": "code",
   "execution_count": null,
   "metadata": {},
   "outputs": [],
   "source": [
    "s = print_hi2('Jon')\n",
    "    "
   ]
  },
  {
   "cell_type": "markdown",
   "metadata": {},
   "source": [
    "In the above example I also included the return argument s. What happens if you print this variable? "
   ]
  },
  {
   "cell_type": "code",
   "execution_count": null,
   "metadata": {},
   "outputs": [],
   "source": []
  },
  {
   "cell_type": "markdown",
   "metadata": {},
   "source": [
    "The print_hi2 function will work with strings, but might not behave as expected with numeric types. Can you think how you could check the type of the variable to make sure that it is a string? Encapsulate this check within the body of the function, and try it out: "
   ]
  },
  {
   "cell_type": "code",
   "execution_count": null,
   "metadata": {},
   "outputs": [],
   "source": []
  }
 ],
 "metadata": {
  "kernelspec": {
   "display_name": "Python 3",
   "language": "python",
   "name": "python3"
  },
  "language_info": {
   "codemirror_mode": {
    "name": "ipython",
    "version": 3
   },
   "file_extension": ".py",
   "mimetype": "text/x-python",
   "name": "python",
   "nbconvert_exporter": "python",
   "pygments_lexer": "ipython3",
   "version": "3.6.9"
  }
 },
 "nbformat": 4,
 "nbformat_minor": 4
}
